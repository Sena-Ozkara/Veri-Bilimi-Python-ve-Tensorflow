{
 "cells": [
  {
   "cell_type": "code",
   "execution_count": 1,
   "metadata": {},
   "outputs": [],
   "source": [
    "benimListem = list()"
   ]
  },
  {
   "cell_type": "code",
   "execution_count": 2,
   "metadata": {},
   "outputs": [
    {
     "data": {
      "text/plain": [
       "list"
      ]
     },
     "execution_count": 2,
     "metadata": {},
     "output_type": "execute_result"
    }
   ],
   "source": [
    "type(benimListem)"
   ]
  },
  {
   "cell_type": "markdown",
   "metadata": {},
   "source": [
    "## instance & attribute"
   ]
  },
  {
   "cell_type": "code",
   "execution_count": 3,
   "metadata": {},
   "outputs": [],
   "source": [
    "superKahramanAdi = \"Superman\"\n",
    "superKahramanYasi = 30\n",
    "superKahramanMeslegi = \"Gazeteci\""
   ]
  },
  {
   "cell_type": "code",
   "execution_count": 4,
   "metadata": {},
   "outputs": [],
   "source": [
    "ikinciSuperKahramanAdi = \"Batman\""
   ]
  },
  {
   "cell_type": "code",
   "execution_count": 5,
   "metadata": {},
   "outputs": [],
   "source": [
    "class SuperKahraman():\n",
    "    \n",
    "    ozelGuc = \"Gorunmezlik\"\n",
    "    \n",
    "    def __init__(self,isim,yas,meslek):\n",
    "        print(\"init çağırıldı\")\n",
    "        self.isim = isim\n",
    "        self.yas = yas\n",
    "        self.meslek = meslek\n",
    "        \n",
    "    def ornekMethod(self):\n",
    "        print(f\"ben süperkahramanım ve meslegim: {self.meslek}\")"
   ]
  },
  {
   "cell_type": "code",
   "execution_count": 6,
   "metadata": {},
   "outputs": [
    {
     "name": "stdout",
     "output_type": "stream",
     "text": [
      "init çağırıldı\n"
     ]
    }
   ],
   "source": [
    "superman = SuperKahraman(\"Superman\",30,\"Gazeteci\")"
   ]
  },
  {
   "cell_type": "code",
   "execution_count": 7,
   "metadata": {},
   "outputs": [],
   "source": [
    "superman.isim = \"Clark Kent\""
   ]
  },
  {
   "cell_type": "code",
   "execution_count": 8,
   "metadata": {},
   "outputs": [
    {
     "data": {
      "text/plain": [
       "'Clark Kent'"
      ]
     },
     "execution_count": 8,
     "metadata": {},
     "output_type": "execute_result"
    }
   ],
   "source": [
    "superman.isim"
   ]
  },
  {
   "cell_type": "code",
   "execution_count": 9,
   "metadata": {},
   "outputs": [
    {
     "data": {
      "text/plain": [
       "30"
      ]
     },
     "execution_count": 9,
     "metadata": {},
     "output_type": "execute_result"
    }
   ],
   "source": [
    "superman.yas"
   ]
  },
  {
   "cell_type": "code",
   "execution_count": 10,
   "metadata": {},
   "outputs": [],
   "source": [
    "superman.ozelGuc = \"Uçabiliyor\""
   ]
  },
  {
   "cell_type": "code",
   "execution_count": 11,
   "metadata": {},
   "outputs": [
    {
     "data": {
      "text/plain": [
       "'Uçabiliyor'"
      ]
     },
     "execution_count": 11,
     "metadata": {},
     "output_type": "execute_result"
    }
   ],
   "source": [
    "superman.ozelGuc"
   ]
  },
  {
   "cell_type": "code",
   "execution_count": 12,
   "metadata": {},
   "outputs": [
    {
     "name": "stdout",
     "output_type": "stream",
     "text": [
      "ben süperkahramanım ve meslegim: Gazeteci\n"
     ]
    }
   ],
   "source": [
    "superman.ornekMethod()"
   ]
  },
  {
   "cell_type": "code",
   "execution_count": 13,
   "metadata": {},
   "outputs": [],
   "source": [
    "class Kopek():\n",
    "    \n",
    "    yilCarpani = 7\n",
    "    \n",
    "    def __init__(self,yas=5):\n",
    "        self.yas = yas\n",
    "        self.insanYasinaCevrilmisAttribute = yas * 7\n",
    "        \n",
    "    def insanYasiniHesapla(self):\n",
    "        return self.yas * Kopek.yilCarpani"
   ]
  },
  {
   "cell_type": "code",
   "execution_count": 14,
   "metadata": {},
   "outputs": [],
   "source": [
    "benimKopek = Kopek()"
   ]
  },
  {
   "cell_type": "code",
   "execution_count": 15,
   "metadata": {},
   "outputs": [
    {
     "data": {
      "text/plain": [
       "5"
      ]
     },
     "execution_count": 15,
     "metadata": {},
     "output_type": "execute_result"
    }
   ],
   "source": [
    "benimKopek.yas"
   ]
  },
  {
   "cell_type": "code",
   "execution_count": 16,
   "metadata": {},
   "outputs": [
    {
     "data": {
      "text/plain": [
       "35"
      ]
     },
     "execution_count": 16,
     "metadata": {},
     "output_type": "execute_result"
    }
   ],
   "source": [
    "benimKopek.insanYasiniHesapla()"
   ]
  },
  {
   "cell_type": "code",
   "execution_count": 17,
   "metadata": {},
   "outputs": [
    {
     "data": {
      "text/plain": [
       "35"
      ]
     },
     "execution_count": 17,
     "metadata": {},
     "output_type": "execute_result"
    }
   ],
   "source": [
    "benimKopek.insanYasinaCevrilmisAttribute"
   ]
  },
  {
   "cell_type": "markdown",
   "metadata": {},
   "source": [
    "## inheritance"
   ]
  },
  {
   "cell_type": "code",
   "execution_count": 18,
   "metadata": {},
   "outputs": [],
   "source": [
    "class Hayvan():\n",
    "    def __init__(self):\n",
    "        print(\"hayvan sınıfı init çağırıldı\")\n",
    "    \n",
    "    def method1(self):\n",
    "        print(\"hayvan sınıfı method1\")\n",
    "        \n",
    "    def method2(self):\n",
    "        print(\"hayvan sınıfı method2 çağırıldı\")"
   ]
  },
  {
   "cell_type": "code",
   "execution_count": 19,
   "metadata": {},
   "outputs": [
    {
     "name": "stdout",
     "output_type": "stream",
     "text": [
      "hayvan sınıfı init çağırıldı\n"
     ]
    }
   ],
   "source": [
    "benimHayvanim = Hayvan()"
   ]
  },
  {
   "cell_type": "code",
   "execution_count": 20,
   "metadata": {},
   "outputs": [
    {
     "name": "stdout",
     "output_type": "stream",
     "text": [
      "hayvan sınıfı method1\n"
     ]
    }
   ],
   "source": [
    "benimHayvanim.method1()"
   ]
  },
  {
   "cell_type": "code",
   "execution_count": 21,
   "metadata": {},
   "outputs": [
    {
     "name": "stdout",
     "output_type": "stream",
     "text": [
      "hayvan sınıfı method2 çağırıldı\n"
     ]
    }
   ],
   "source": [
    "benimHayvanim.method2()"
   ]
  },
  {
   "cell_type": "code",
   "execution_count": 22,
   "metadata": {},
   "outputs": [],
   "source": [
    "class Kedi(Hayvan):\n",
    "    def __init__(self):\n",
    "        Hayvan.__init__(self)\n",
    "        print(\"kedi sınıfı init çağırıldı\")\n",
    "        \n",
    "    def miyavla(self):\n",
    "        print(\"miyav\")\n",
    "    \n",
    "    #override\n",
    "    def method1(self):\n",
    "        print(\"kedi sınıfındaki method1 çağırıldı\")"
   ]
  },
  {
   "cell_type": "code",
   "execution_count": 23,
   "metadata": {},
   "outputs": [
    {
     "name": "stdout",
     "output_type": "stream",
     "text": [
      "hayvan sınıfı init çağırıldı\n",
      "kedi sınıfı init çağırıldı\n"
     ]
    }
   ],
   "source": [
    "benimKedi = Kedi()"
   ]
  },
  {
   "cell_type": "code",
   "execution_count": 24,
   "metadata": {},
   "outputs": [
    {
     "name": "stdout",
     "output_type": "stream",
     "text": [
      "kedi sınıfındaki method1 çağırıldı\n"
     ]
    }
   ],
   "source": [
    "benimKedi.method1()"
   ]
  },
  {
   "cell_type": "code",
   "execution_count": 25,
   "metadata": {},
   "outputs": [
    {
     "name": "stdout",
     "output_type": "stream",
     "text": [
      "miyav\n"
     ]
    }
   ],
   "source": [
    "benimKedi.miyavla()"
   ]
  },
  {
   "cell_type": "code",
   "execution_count": 26,
   "metadata": {},
   "outputs": [
    {
     "name": "stdout",
     "output_type": "stream",
     "text": [
      "hayvan sınıfı init çağırıldı\n"
     ]
    }
   ],
   "source": [
    "digerHayvan = Hayvan()"
   ]
  },
  {
   "cell_type": "code",
   "execution_count": 27,
   "metadata": {},
   "outputs": [
    {
     "name": "stdout",
     "output_type": "stream",
     "text": [
      "hayvan sınıfı method1\n"
     ]
    }
   ],
   "source": [
    "digerHayvan.method1()"
   ]
  },
  {
   "cell_type": "code",
   "execution_count": 28,
   "metadata": {},
   "outputs": [
    {
     "name": "stdout",
     "output_type": "stream",
     "text": [
      "hayvan sınıfı init çağırıldı\n",
      "kedi sınıfı init çağırıldı\n"
     ]
    }
   ],
   "source": [
    "digerKedi = Kedi()"
   ]
  },
  {
   "cell_type": "code",
   "execution_count": 29,
   "metadata": {},
   "outputs": [
    {
     "name": "stdout",
     "output_type": "stream",
     "text": [
      "kedi sınıfındaki method1 çağırıldı\n"
     ]
    }
   ],
   "source": [
    "digerKedi.method1()"
   ]
  },
  {
   "cell_type": "markdown",
   "metadata": {},
   "source": [
    "## Polymorphism"
   ]
  },
  {
   "cell_type": "code",
   "execution_count": 30,
   "metadata": {},
   "outputs": [],
   "source": [
    "class Elma():\n",
    "    def __init__(self,isim):\n",
    "        self.isim = isim\n",
    "    \n",
    "    def bilgiVer(self):\n",
    "        return self.isim + \" 100 kaloridir \""
   ]
  },
  {
   "cell_type": "code",
   "execution_count": 31,
   "metadata": {},
   "outputs": [],
   "source": [
    "class Muz():\n",
    "    def __init__(self,isim):\n",
    "        self.isim = isim\n",
    "        \n",
    "    def bilgiVer(self):\n",
    "        return self.isim + \" 150 kaloridir \""
   ]
  },
  {
   "cell_type": "code",
   "execution_count": 32,
   "metadata": {},
   "outputs": [],
   "source": [
    "elma = Elma(\"elma\")"
   ]
  },
  {
   "cell_type": "code",
   "execution_count": 33,
   "metadata": {},
   "outputs": [
    {
     "data": {
      "text/plain": [
       "'elma 100 kaloridir '"
      ]
     },
     "execution_count": 33,
     "metadata": {},
     "output_type": "execute_result"
    }
   ],
   "source": [
    "elma.bilgiVer()"
   ]
  },
  {
   "cell_type": "code",
   "execution_count": 34,
   "metadata": {},
   "outputs": [],
   "source": [
    "muz = Muz(\"muz\")"
   ]
  },
  {
   "cell_type": "code",
   "execution_count": 35,
   "metadata": {},
   "outputs": [
    {
     "data": {
      "text/plain": [
       "'muz 150 kaloridir '"
      ]
     },
     "execution_count": 35,
     "metadata": {},
     "output_type": "execute_result"
    }
   ],
   "source": [
    "muz.bilgiVer()"
   ]
  },
  {
   "cell_type": "code",
   "execution_count": 36,
   "metadata": {},
   "outputs": [],
   "source": [
    "meyveListesi = [elma,muz]"
   ]
  },
  {
   "cell_type": "code",
   "execution_count": 37,
   "metadata": {},
   "outputs": [
    {
     "name": "stdout",
     "output_type": "stream",
     "text": [
      "elma 100 kaloridir \n",
      "muz 150 kaloridir \n"
     ]
    }
   ],
   "source": [
    "for meyve in meyveListesi:\n",
    "    print(meyve.bilgiVer())"
   ]
  },
  {
   "cell_type": "code",
   "execution_count": 38,
   "metadata": {},
   "outputs": [],
   "source": [
    "def bilgiAl(meyve):\n",
    "    print(meyve.bilgiVer())"
   ]
  },
  {
   "cell_type": "code",
   "execution_count": 39,
   "metadata": {},
   "outputs": [
    {
     "name": "stdout",
     "output_type": "stream",
     "text": [
      "muz 150 kaloridir \n"
     ]
    }
   ],
   "source": [
    "bilgiAl(muz)"
   ]
  },
  {
   "cell_type": "code",
   "execution_count": 40,
   "metadata": {},
   "outputs": [
    {
     "name": "stdout",
     "output_type": "stream",
     "text": [
      "elma 100 kaloridir \n"
     ]
    }
   ],
   "source": [
    "bilgiAl(elma)"
   ]
  },
  {
   "cell_type": "code",
   "execution_count": null,
   "metadata": {},
   "outputs": [],
   "source": []
  }
 ],
 "metadata": {
  "kernelspec": {
   "display_name": "Python 3",
   "language": "python",
   "name": "python3"
  },
  "language_info": {
   "codemirror_mode": {
    "name": "ipython",
    "version": 3
   },
   "file_extension": ".py",
   "mimetype": "text/x-python",
   "name": "python",
   "nbconvert_exporter": "python",
   "pygments_lexer": "ipython3",
   "version": "3.8.8"
  }
 },
 "nbformat": 4,
 "nbformat_minor": 4
}
